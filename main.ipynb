{
 "cells": [
  {
   "cell_type": "code",
   "execution_count": 6,
   "id": "08d13dde-ec9e-4acd-93d2-d6d0e37524af",
   "metadata": {},
   "outputs": [
    {
     "name": "stdout",
     "output_type": "stream",
     "text": [
      "Requirement already satisfied: duckdb==0.5.0 in c:\\users\\omarl\\anaconda3\\lib\\site-packages (0.5.0)\n",
      "Requirement already satisfied: numpy>=1.14 in c:\\users\\omarl\\anaconda3\\lib\\site-packages (from duckdb==0.5.0) (1.21.5)\n",
      "Requirement already satisfied: ipython-sql in c:\\users\\omarl\\anaconda3\\lib\\site-packages (0.4.1)\n",
      "Requirement already satisfied: SQLAlchemy in c:\\users\\omarl\\anaconda3\\lib\\site-packages (1.4.32)\n",
      "Requirement already satisfied: duckdb-engine in c:\\users\\omarl\\anaconda3\\lib\\site-packages (0.6.4)\n",
      "Requirement already satisfied: prettytable<1 in c:\\users\\omarl\\anaconda3\\lib\\site-packages (from ipython-sql) (0.7.2)\n",
      "Requirement already satisfied: six in c:\\users\\omarl\\anaconda3\\lib\\site-packages (from ipython-sql) (1.16.0)\n",
      "Requirement already satisfied: sqlparse in c:\\users\\omarl\\anaconda3\\lib\\site-packages (from ipython-sql) (0.4.2)\n",
      "Requirement already satisfied: ipython>=1.0 in c:\\users\\omarl\\anaconda3\\lib\\site-packages (from ipython-sql) (8.2.0)\n",
      "Requirement already satisfied: ipython-genutils>=0.1.0 in c:\\users\\omarl\\anaconda3\\lib\\site-packages (from ipython-sql) (0.2.0)\n",
      "Requirement already satisfied: greenlet!=0.4.17 in c:\\users\\omarl\\anaconda3\\lib\\site-packages (from SQLAlchemy) (1.1.1)\n",
      "Requirement already satisfied: numpy in c:\\users\\omarl\\anaconda3\\lib\\site-packages (from duckdb-engine) (1.21.5)\n",
      "Requirement already satisfied: duckdb>=0.4.0 in c:\\users\\omarl\\anaconda3\\lib\\site-packages (from duckdb-engine) (0.5.0)\n",
      "Requirement already satisfied: pygments>=2.4.0 in c:\\users\\omarl\\anaconda3\\lib\\site-packages (from ipython>=1.0->ipython-sql) (2.11.2)\n",
      "Requirement already satisfied: decorator in c:\\users\\omarl\\anaconda3\\lib\\site-packages (from ipython>=1.0->ipython-sql) (5.1.1)\n",
      "Requirement already satisfied: stack-data in c:\\users\\omarl\\anaconda3\\lib\\site-packages (from ipython>=1.0->ipython-sql) (0.2.0)\n",
      "Requirement already satisfied: setuptools>=18.5 in c:\\users\\omarl\\anaconda3\\lib\\site-packages (from ipython>=1.0->ipython-sql) (61.2.0)\n",
      "Requirement already satisfied: pickleshare in c:\\users\\omarl\\anaconda3\\lib\\site-packages (from ipython>=1.0->ipython-sql) (0.7.5)\n",
      "Requirement already satisfied: traitlets>=5 in c:\\users\\omarl\\anaconda3\\lib\\site-packages (from ipython>=1.0->ipython-sql) (5.1.1)\n",
      "Requirement already satisfied: matplotlib-inline in c:\\users\\omarl\\anaconda3\\lib\\site-packages (from ipython>=1.0->ipython-sql) (0.1.2)\n",
      "Requirement already satisfied: jedi>=0.16 in c:\\users\\omarl\\anaconda3\\lib\\site-packages (from ipython>=1.0->ipython-sql) (0.18.1)\n",
      "Requirement already satisfied: colorama in c:\\users\\omarl\\anaconda3\\lib\\site-packages (from ipython>=1.0->ipython-sql) (0.4.4)\n",
      "Requirement already satisfied: prompt-toolkit!=3.0.0,!=3.0.1,<3.1.0,>=2.0.0 in c:\\users\\omarl\\anaconda3\\lib\\site-packages (from ipython>=1.0->ipython-sql) (3.0.20)\n",
      "Requirement already satisfied: backcall in c:\\users\\omarl\\anaconda3\\lib\\site-packages (from ipython>=1.0->ipython-sql) (0.2.0)\n",
      "Requirement already satisfied: parso<0.9.0,>=0.8.0 in c:\\users\\omarl\\anaconda3\\lib\\site-packages (from jedi>=0.16->ipython>=1.0->ipython-sql) (0.8.3)\n",
      "Requirement already satisfied: wcwidth in c:\\users\\omarl\\anaconda3\\lib\\site-packages (from prompt-toolkit!=3.0.0,!=3.0.1,<3.1.0,>=2.0.0->ipython>=1.0->ipython-sql) (0.2.5)\n",
      "Requirement already satisfied: executing in c:\\users\\omarl\\anaconda3\\lib\\site-packages (from stack-data->ipython>=1.0->ipython-sql) (0.8.3)\n",
      "Requirement already satisfied: pure-eval in c:\\users\\omarl\\anaconda3\\lib\\site-packages (from stack-data->ipython>=1.0->ipython-sql) (0.2.2)\n",
      "Requirement already satisfied: asttokens in c:\\users\\omarl\\anaconda3\\lib\\site-packages (from stack-data->ipython>=1.0->ipython-sql) (2.0.5)\n",
      "Requirement already satisfied: watchdog in c:\\users\\omarl\\anaconda3\\lib\\site-packages (2.1.6)\n"
     ]
    }
   ],
   "source": [
    "!pip install duckdb==0.5.0\n",
    "!pip install watchdog"
   ]
  },
  {
   "cell_type": "code",
   "execution_count": 3,
   "id": "e4221c00-1f53-4bdb-8a0a-0bc456355e0c",
   "metadata": {},
   "outputs": [
    {
     "name": "stdout",
     "output_type": "stream",
     "text": [
      "[('chocolate_part_1',)]\n",
      "[('chocolate_part_1',), ('chocolate_part_2',)]\n",
      "[('chocolate_part_1',), ('chocolate_part_2',), ('freedom_part_1',)]\n",
      "[('chocolate_part_1',), ('chocolate_part_2',), ('freedom_part_1',), ('freedom_part_2',)]\n"
     ]
    }
   ],
   "source": [
    "import time\n",
    "from watchdog.observers import Observer\n",
    "from watchdog.events import FileSystemEventHandler, PatternMatchingEventHandler\n",
    "import duckdb\n",
    "\n",
    "path = \"landing/persistent/\"\n",
    "global con\n",
    "con = duckdb.connect(database='formatted/my-db.duckdb', read_only=False)\n",
    "\n",
    "class EventHandler(PatternMatchingEventHandler):\n",
    "    def __init__(self):\n",
    "        PatternMatchingEventHandler.__init__(\n",
    "            self,\n",
    "            patterns=[\"*.csv\"],\n",
    "            ignore_directories=True,\n",
    "            case_sensitive=False,\n",
    "        )\n",
    "    \n",
    "    \n",
    "    def on_created(self, event):\n",
    "        filename = event.src_path.split(\"/\")[-1]\n",
    "        filename_trunc = filename.split(\".\")[0]\n",
    "        try:\n",
    "            cursor = con.cursor()\n",
    "            cursor.execute(f\"CREATE TABLE {filename_trunc} AS SELECT * FROM read_csv_auto(?);\", [ \n",
    "                                                                         event.src_path])\n",
    "            cursor.execute(\"show tables\")\n",
    "            print(cursor.fetchall())\n",
    "        except:\n",
    "            pass\n",
    "        finally:\n",
    "            cursor.close()\n",
    "        \n",
    "        \n",
    "event_handler = EventHandler()\n",
    "observer = Observer()\n",
    "observer.schedule(event_handler, path, recursive=True)\n",
    "observer.start()\n",
    "\n",
    "try:\n",
    "    while True:\n",
    "        time.sleep(1)\n",
    "        \n",
    "except KeyboardInterrupt:\n",
    "    observer.stop()\n",
    "observer.join()"
   ]
  }
 ],
 "metadata": {
  "kernelspec": {
   "display_name": "Python 3 (ipykernel)",
   "language": "python",
   "name": "python3"
  },
  "language_info": {
   "codemirror_mode": {
    "name": "ipython",
    "version": 3
   },
   "file_extension": ".py",
   "mimetype": "text/x-python",
   "name": "python",
   "nbconvert_exporter": "python",
   "pygments_lexer": "ipython3",
   "version": "3.9.12"
  }
 },
 "nbformat": 4,
 "nbformat_minor": 5
}

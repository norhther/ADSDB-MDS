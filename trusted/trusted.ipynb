{
 "cells": [
  {
   "cell_type": "code",
   "execution_count": 7,
   "id": "1a29df4f-1d49-4f91-8b5c-d06c0aabcfad",
   "metadata": {},
   "outputs": [],
   "source": [
    "import time\n",
    "from watchdog.observers import Observer\n",
    "from watchdog.events import FileSystemEventHandler, PatternMatchingEventHandler\n",
    "import duckdb\n",
    "import pathlib\n",
    "import pandas\n",
    "from pandas_profiling import ProfileReport\n",
    "import numpy as np\n",
    "from scipy import stats\n",
    "import joblib\n",
    "import random\n",
    "\n",
    "sleeping_time = 5\n",
    "\n",
    "\n",
    "def data_quality(df):\n",
    "    profile = ProfileReport(df, title=\"Profiling Report\")\n",
    "    profile.to_widgets()\n",
    "    \n",
    "def remove_duplicates(name_no_prefix, df, cursor):\n",
    "    df_clean = df.drop_duplicates()\n",
    "    # removing previous table\n",
    "    cursor.execute(f\"DROP TABLE {name_no_prefix}\")\n",
    "    # create new one\n",
    "    cursor.execute(f\"CREATE TABLE IF NOT EXISTS {name_no_prefix} AS SELECT * FROM df_clean\")"
   ]
  },
  {
   "cell_type": "code",
   "execution_count": 8,
   "id": "a2ca1787-363d-4256-8a9f-42763ca071c0",
   "metadata": {},
   "outputs": [
    {
     "name": "stdout",
     "output_type": "stream",
     "text": [
      "[]\n",
      "[('IQ_part1',), ('IQ_part2',), ('countrycode',), ('student_data_2015',)]\n",
      "New table found!\n",
      "Creating table IQ\n",
      "Report for table IQ\n"
     ]
    },
    {
     "data": {
      "application/vnd.jupyter.widget-view+json": {
       "model_id": "d43cd6073ad74096b47fecdec8adcd7b",
       "version_major": 2,
       "version_minor": 0
      },
      "text/plain": [
       "Summarize dataset:   0%|          | 0/5 [00:00<?, ?it/s]"
      ]
     },
     "metadata": {},
     "output_type": "display_data"
    },
    {
     "data": {
      "application/vnd.jupyter.widget-view+json": {
       "model_id": "fe317db3e24741dcb0adb36c027cdc70",
       "version_major": 2,
       "version_minor": 0
      },
      "text/plain": [
       "Generate report structure:   0%|          | 0/1 [00:00<?, ?it/s]"
      ]
     },
     "metadata": {},
     "output_type": "display_data"
    },
    {
     "data": {
      "application/vnd.jupyter.widget-view+json": {
       "model_id": "",
       "version_major": 2,
       "version_minor": 0
      },
      "text/plain": [
       "Render widgets:   0%|          | 0/1 [00:00<?, ?it/s]"
      ]
     },
     "metadata": {},
     "output_type": "display_data"
    },
    {
     "data": {
      "application/vnd.jupyter.widget-view+json": {
       "model_id": "c21b9cfa8f3d4b99b17acf5ccac27ae9",
       "version_major": 2,
       "version_minor": 0
      },
      "text/plain": [
       "VBox(children=(Tab(children=(Tab(children=(GridBox(children=(VBox(children=(GridspecLayout(children=(HTML(valu…"
      ]
     },
     "metadata": {},
     "output_type": "display_data"
    },
    {
     "name": "stdout",
     "output_type": "stream",
     "text": [
      "New table found!\n",
      "Inserting into table\n",
      "Report for table IQ\n"
     ]
    },
    {
     "data": {
      "application/vnd.jupyter.widget-view+json": {
       "model_id": "aa93f62ee35e45fbbfb0f24a0366daa5",
       "version_major": 2,
       "version_minor": 0
      },
      "text/plain": [
       "Summarize dataset:   0%|          | 0/5 [00:00<?, ?it/s]"
      ]
     },
     "metadata": {},
     "output_type": "display_data"
    },
    {
     "data": {
      "application/vnd.jupyter.widget-view+json": {
       "model_id": "6ce14fb841d94adfae5be8cff37058fc",
       "version_major": 2,
       "version_minor": 0
      },
      "text/plain": [
       "Generate report structure:   0%|          | 0/1 [00:00<?, ?it/s]"
      ]
     },
     "metadata": {},
     "output_type": "display_data"
    },
    {
     "data": {
      "application/vnd.jupyter.widget-view+json": {
       "model_id": "",
       "version_major": 2,
       "version_minor": 0
      },
      "text/plain": [
       "Render widgets:   0%|          | 0/1 [00:00<?, ?it/s]"
      ]
     },
     "metadata": {},
     "output_type": "display_data"
    },
    {
     "data": {
      "application/vnd.jupyter.widget-view+json": {
       "model_id": "64f44cfdd85140d58a53cfecdd12d76e",
       "version_major": 2,
       "version_minor": 0
      },
      "text/plain": [
       "VBox(children=(Tab(children=(Tab(children=(GridBox(children=(VBox(children=(GridspecLayout(children=(HTML(valu…"
      ]
     },
     "metadata": {},
     "output_type": "display_data"
    },
    {
     "name": "stdout",
     "output_type": "stream",
     "text": [
      "New table found!\n",
      "Creating table countrycode\n",
      "Report for table countrycode\n"
     ]
    },
    {
     "data": {
      "application/vnd.jupyter.widget-view+json": {
       "model_id": "d520f3555dfa489f8010d4f1234431a6",
       "version_major": 2,
       "version_minor": 0
      },
      "text/plain": [
       "Summarize dataset:   0%|          | 0/5 [00:00<?, ?it/s]"
      ]
     },
     "metadata": {},
     "output_type": "display_data"
    },
    {
     "data": {
      "application/vnd.jupyter.widget-view+json": {
       "model_id": "3a48726d6f2e49119fc2393a5bcbc802",
       "version_major": 2,
       "version_minor": 0
      },
      "text/plain": [
       "Generate report structure:   0%|          | 0/1 [00:00<?, ?it/s]"
      ]
     },
     "metadata": {},
     "output_type": "display_data"
    },
    {
     "data": {
      "application/vnd.jupyter.widget-view+json": {
       "model_id": "",
       "version_major": 2,
       "version_minor": 0
      },
      "text/plain": [
       "Render widgets:   0%|          | 0/1 [00:00<?, ?it/s]"
      ]
     },
     "metadata": {},
     "output_type": "display_data"
    },
    {
     "data": {
      "application/vnd.jupyter.widget-view+json": {
       "model_id": "fa64549ff7dc48a08b92c3beb94a58db",
       "version_major": 2,
       "version_minor": 0
      },
      "text/plain": [
       "VBox(children=(Tab(children=(Tab(children=(GridBox(children=(VBox(children=(GridspecLayout(children=(HTML(valu…"
      ]
     },
     "metadata": {},
     "output_type": "display_data"
    },
    {
     "name": "stdout",
     "output_type": "stream",
     "text": [
      "New table found!\n",
      "Creating table student\n",
      "Report for table student\n"
     ]
    },
    {
     "data": {
      "application/vnd.jupyter.widget-view+json": {
       "model_id": "f7786bc615094f7cb36f715144bc47aa",
       "version_major": 2,
       "version_minor": 0
      },
      "text/plain": [
       "Summarize dataset:   0%|          | 0/5 [00:00<?, ?it/s]"
      ]
     },
     "metadata": {},
     "output_type": "display_data"
    },
    {
     "data": {
      "application/vnd.jupyter.widget-view+json": {
       "model_id": "59f0b00ba0784f6d8c7d616967407086",
       "version_major": 2,
       "version_minor": 0
      },
      "text/plain": [
       "Generate report structure:   0%|          | 0/1 [00:00<?, ?it/s]"
      ]
     },
     "metadata": {},
     "output_type": "display_data"
    },
    {
     "data": {
      "application/vnd.jupyter.widget-view+json": {
       "model_id": "",
       "version_major": 2,
       "version_minor": 0
      },
      "text/plain": [
       "Render widgets:   0%|          | 0/1 [00:00<?, ?it/s]"
      ]
     },
     "metadata": {},
     "output_type": "display_data"
    },
    {
     "data": {
      "application/vnd.jupyter.widget-view+json": {
       "model_id": "971d6e81c2934717bec1e462062f9e7e",
       "version_major": 2,
       "version_minor": 0
      },
      "text/plain": [
       "VBox(children=(Tab(children=(Tab(children=(GridBox(children=(VBox(children=(GridspecLayout(children=(HTML(valu…"
      ]
     },
     "metadata": {},
     "output_type": "display_data"
    },
    {
     "name": "stdout",
     "output_type": "stream",
     "text": [
      "An exception occurred: IO Error: Could not set lock on file \"my-db.duckdb\": Resource temporarily unavailable\n",
      "Retrying shortly... Don't worry :D\n",
      "[('IQ_part1',), ('IQ_part2',), ('countrycode',), ('student_data_2015',)]\n",
      "An exception occurred: \n",
      "Retrying shortly... Don't worry :D\n",
      "[('IQ_part1',), ('IQ_part2',), ('countrycode',), ('student_data_2015',)]\n",
      "An exception occurred: \n",
      "Retrying shortly... Don't worry :D\n"
     ]
    },
    {
     "ename": "KeyboardInterrupt",
     "evalue": "",
     "output_type": "error",
     "traceback": [
      "\u001b[0;31m---------------------------------------------------------------------------\u001b[0m",
      "\u001b[0;31mKeyboardInterrupt\u001b[0m                         Traceback (most recent call last)",
      "Input \u001b[0;32mIn [8]\u001b[0m, in \u001b[0;36m<cell line: 2>\u001b[0;34m()\u001b[0m\n\u001b[1;32m     55\u001b[0m     conn_trusted\u001b[38;5;241m.\u001b[39mclose()\n\u001b[1;32m     56\u001b[0m     conn_logs\u001b[38;5;241m.\u001b[39mclose()\n\u001b[0;32m---> 57\u001b[0m \u001b[43mtime\u001b[49m\u001b[38;5;241;43m.\u001b[39;49m\u001b[43msleep\u001b[49m\u001b[43m(\u001b[49m\u001b[43msleeping_time\u001b[49m\u001b[43m \u001b[49m\u001b[38;5;241;43m+\u001b[39;49m\u001b[43m \u001b[49m\u001b[43moffset\u001b[49m\u001b[43m)\u001b[49m\n",
      "\u001b[0;31mKeyboardInterrupt\u001b[0m: "
     ]
    }
   ],
   "source": [
    "while True:\n",
    "    try:\n",
    "        offset = random.randint(0, 30)\n",
    "        conn_formatted = duckdb.connect(database=str(pathlib.Path().resolve().parent) + '/formatted/my-db.duckdb', read_only=False)\n",
    "        conn_trusted = duckdb.connect(database='my-db.duckdb', read_only=False)\n",
    "        conn_logs = duckdb.connect(database='logs.duckdb', read_only=False)\n",
    "\n",
    "        cursor = conn_formatted.cursor()\n",
    "        cursor2 = conn_trusted.cursor()\n",
    "        log_cursor = conn_logs.cursor()\n",
    "\n",
    "        log_cursor.execute(\"CREATE TABLE IF NOT EXISTS Logs (ID Varchar(255), name Varchar(255))\")\n",
    "\n",
    "\n",
    "        fetch_query = \"SHOW TABLES\"\n",
    "        cursor.execute(fetch_query)\n",
    "        print(cursor.fetchall())\n",
    "\n",
    "        cursor.execute(fetch_query)\n",
    "        tables = cursor.fetchall()\n",
    "        for table in tables:\n",
    "            df = cursor.execute(f\"SELECT * FROM {table[0]}\").df()\n",
    "            df_hash = joblib.hash(df)\n",
    "            log_cursor.execute(f\"SELECT * FROM LOGS WHERE Logs.ID = \\'{df_hash}\\'\")\n",
    "            # check that is a new table based on the hashed value\n",
    "            df_not_exists = log_cursor.fetchall() == []\n",
    "            if df_not_exists:\n",
    "                print(\"New table found!\")\n",
    "                log_cursor.execute(f\"INSERT INTO LOGS VALUES (\\'{df_hash}\\', \\'{table[0]}\\')\")\n",
    "                name_no_prefix = table[0].split(\"_\")[0]\n",
    "                cursor2.execute(\"SHOW TABLES\")\n",
    "                existing_tables = [x[0] for x in cursor2.fetchall()]\n",
    "                \n",
    "                if name_no_prefix not in existing_tables:\n",
    "                    print(f\"Creating table {name_no_prefix}\")\n",
    "                    cursor2.execute(f\"CREATE TABLE IF NOT EXISTS {name_no_prefix} AS SELECT * FROM df\")\n",
    "                else:\n",
    "                    print(\"Inserting into table\")\n",
    "                    cursor2.execute(f\"INSERT INTO {name_no_prefix} SELECT * FROM df\")\n",
    "                \n",
    "                # Reporting and deduplicating\n",
    "                print(f\"Report for table {name_no_prefix}\")\n",
    "                df = cursor2.execute(f\"SELECT * FROM {name_no_prefix}\").df()\n",
    "                data_quality(df)\n",
    "                remove_duplicates(name_no_prefix, df, cursor2)\n",
    "            \n",
    "        \n",
    "    except BaseException as error:\n",
    "        print('An exception occurred: {}'.format(error))\n",
    "        print(\"Retrying shortly... Don't worry :D\")\n",
    "        time.sleep(1)\n",
    "        \n",
    "    finally:\n",
    "        conn_formatted.close()\n",
    "        conn_trusted.close()\n",
    "        conn_logs.close()\n",
    "    time.sleep(sleeping_time + offset)"
   ]
  },
  {
   "cell_type": "code",
   "execution_count": 6,
   "id": "3240c5de-e1b7-4502-a7f8-241aea131dd7",
   "metadata": {},
   "outputs": [
    {
     "data": {
      "application/vnd.jupyter.widget-view+json": {
       "model_id": "6fe609f70c604b348f15d42f1a94920f",
       "version_major": 2,
       "version_minor": 0
      },
      "text/plain": [
       "Summarize dataset:   0%|          | 0/5 [00:00<?, ?it/s]"
      ]
     },
     "metadata": {},
     "output_type": "display_data"
    },
    {
     "data": {
      "application/vnd.jupyter.widget-view+json": {
       "model_id": "0e348ed672b641e1b4bccba5c537ee23",
       "version_major": 2,
       "version_minor": 0
      },
      "text/plain": [
       "Generate report structure:   0%|          | 0/1 [00:00<?, ?it/s]"
      ]
     },
     "metadata": {},
     "output_type": "display_data"
    },
    {
     "data": {
      "application/vnd.jupyter.widget-view+json": {
       "model_id": "",
       "version_major": 2,
       "version_minor": 0
      },
      "text/plain": [
       "Render widgets:   0%|          | 0/1 [00:00<?, ?it/s]"
      ]
     },
     "metadata": {},
     "output_type": "display_data"
    },
    {
     "data": {
      "application/vnd.jupyter.widget-view+json": {
       "model_id": "93b506cce50f40a586964b1892145b05",
       "version_major": 2,
       "version_minor": 0
      },
      "text/plain": [
       "VBox(children=(Tab(children=(Tab(children=(GridBox(children=(VBox(children=(GridspecLayout(children=(HTML(valu…"
      ]
     },
     "metadata": {},
     "output_type": "display_data"
    },
    {
     "data": {
      "application/vnd.jupyter.widget-view+json": {
       "model_id": "eff0fd07d5914c20ae72a370c417c188",
       "version_major": 2,
       "version_minor": 0
      },
      "text/plain": [
       "Summarize dataset:   0%|          | 0/5 [00:00<?, ?it/s]"
      ]
     },
     "metadata": {},
     "output_type": "display_data"
    },
    {
     "data": {
      "application/vnd.jupyter.widget-view+json": {
       "model_id": "6106d15df8824bd1800c3ad95fce742b",
       "version_major": 2,
       "version_minor": 0
      },
      "text/plain": [
       "Generate report structure:   0%|          | 0/1 [00:00<?, ?it/s]"
      ]
     },
     "metadata": {},
     "output_type": "display_data"
    },
    {
     "data": {
      "application/vnd.jupyter.widget-view+json": {
       "model_id": "",
       "version_major": 2,
       "version_minor": 0
      },
      "text/plain": [
       "Render widgets:   0%|          | 0/1 [00:00<?, ?it/s]"
      ]
     },
     "metadata": {},
     "output_type": "display_data"
    },
    {
     "data": {
      "application/vnd.jupyter.widget-view+json": {
       "model_id": "f8401a09219945c2896a0970aa1495ee",
       "version_major": 2,
       "version_minor": 0
      },
      "text/plain": [
       "VBox(children=(Tab(children=(Tab(children=(GridBox(children=(VBox(children=(GridspecLayout(children=(HTML(valu…"
      ]
     },
     "metadata": {},
     "output_type": "display_data"
    },
    {
     "data": {
      "application/vnd.jupyter.widget-view+json": {
       "model_id": "42d1a096e9a547f99b6cb101539c07e6",
       "version_major": 2,
       "version_minor": 0
      },
      "text/plain": [
       "Summarize dataset:   0%|          | 0/5 [00:00<?, ?it/s]"
      ]
     },
     "metadata": {},
     "output_type": "display_data"
    },
    {
     "data": {
      "application/vnd.jupyter.widget-view+json": {
       "model_id": "31bf455266cd4b32ae44529ecb87f131",
       "version_major": 2,
       "version_minor": 0
      },
      "text/plain": [
       "Generate report structure:   0%|          | 0/1 [00:00<?, ?it/s]"
      ]
     },
     "metadata": {},
     "output_type": "display_data"
    },
    {
     "data": {
      "application/vnd.jupyter.widget-view+json": {
       "model_id": "",
       "version_major": 2,
       "version_minor": 0
      },
      "text/plain": [
       "Render widgets:   0%|          | 0/1 [00:00<?, ?it/s]"
      ]
     },
     "metadata": {},
     "output_type": "display_data"
    },
    {
     "data": {
      "application/vnd.jupyter.widget-view+json": {
       "model_id": "7b621269f9f9497d94f3c6f028238753",
       "version_major": 2,
       "version_minor": 0
      },
      "text/plain": [
       "VBox(children=(Tab(children=(Tab(children=(GridBox(children=(VBox(children=(GridspecLayout(children=(HTML(valu…"
      ]
     },
     "metadata": {},
     "output_type": "display_data"
    }
   ],
   "source": [
    "con = duckdb.connect(database= 'my-db.duckdb', read_only=False)\n",
    "cursor = con.cursor()\n",
    "cursor.execute(\"show tables\")\n",
    "tables = [x[0] for x in cursor.fetchall()]\n",
    "\n",
    "for table in tables:\n",
    "    data_quality(cursor.execute(f\"SELECT * FROM {table}\").df())"
   ]
  },
  {
   "cell_type": "code",
   "execution_count": 9,
   "id": "abf4da87-edca-4122-ba71-3e13487554ae",
   "metadata": {},
   "outputs": [
    {
     "data": {
      "text/html": [
       "<div>\n",
       "<style scoped>\n",
       "    .dataframe tbody tr th:only-of-type {\n",
       "        vertical-align: middle;\n",
       "    }\n",
       "\n",
       "    .dataframe tbody tr th {\n",
       "        vertical-align: top;\n",
       "    }\n",
       "\n",
       "    .dataframe thead th {\n",
       "        text-align: right;\n",
       "    }\n",
       "</style>\n",
       "<table border=\"1\" class=\"dataframe\">\n",
       "  <thead>\n",
       "    <tr style=\"text-align: right;\">\n",
       "      <th></th>\n",
       "      <th>ID</th>\n",
       "      <th>name</th>\n",
       "    </tr>\n",
       "  </thead>\n",
       "  <tbody>\n",
       "    <tr>\n",
       "      <th>0</th>\n",
       "      <td>2f6f45f0b302568afd71e80a346c377f</td>\n",
       "      <td>IQ_part1</td>\n",
       "    </tr>\n",
       "    <tr>\n",
       "      <th>1</th>\n",
       "      <td>1a7a1f4ddabd12324bbbc1665231eb2b</td>\n",
       "      <td>IQ_part2</td>\n",
       "    </tr>\n",
       "    <tr>\n",
       "      <th>2</th>\n",
       "      <td>136480793dbf056d71b913ea9f9a66ef</td>\n",
       "      <td>countrycode</td>\n",
       "    </tr>\n",
       "    <tr>\n",
       "      <th>3</th>\n",
       "      <td>68c189e7f5c7adbbd9ee7001559ebe5f</td>\n",
       "      <td>student_data_2015</td>\n",
       "    </tr>\n",
       "  </tbody>\n",
       "</table>\n",
       "</div>"
      ],
      "text/plain": [
       "                                 ID               name\n",
       "0  2f6f45f0b302568afd71e80a346c377f           IQ_part1\n",
       "1  1a7a1f4ddabd12324bbbc1665231eb2b           IQ_part2\n",
       "2  136480793dbf056d71b913ea9f9a66ef        countrycode\n",
       "3  68c189e7f5c7adbbd9ee7001559ebe5f  student_data_2015"
      ]
     },
     "execution_count": 9,
     "metadata": {},
     "output_type": "execute_result"
    }
   ],
   "source": [
    "conn_logs = duckdb.connect(database='logs.duckdb', read_only=False)\n",
    "df = conn_logs.execute(\"SELECT * FROM LOGS\").df()\n",
    "conn_logs.close()\n",
    "df"
   ]
  }
 ],
 "metadata": {
  "kernelspec": {
   "display_name": "Python 3 (ipykernel)",
   "language": "python",
   "name": "python3"
  },
  "language_info": {
   "codemirror_mode": {
    "name": "ipython",
    "version": 3
   },
   "file_extension": ".py",
   "mimetype": "text/x-python",
   "name": "python",
   "nbconvert_exporter": "python",
   "pygments_lexer": "ipython3",
   "version": "3.9.12"
  }
 },
 "nbformat": 4,
 "nbformat_minor": 5
}

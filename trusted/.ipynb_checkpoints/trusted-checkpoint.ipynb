{
 "cells": [
  {
   "cell_type": "code",
   "execution_count": 1,
   "id": "1a29df4f-1d49-4f91-8b5c-d06c0aabcfad",
   "metadata": {},
   "outputs": [
    {
     "name": "stdout",
     "output_type": "stream",
     "text": [
      "[('IQ_part1',), ('IQ_part2',), ('countrycode',), ('student_data_2015',)]\n"
     ]
    }
   ],
   "source": [
    "import time\n",
    "from watchdog.observers import Observer\n",
    "from watchdog.events import FileSystemEventHandler, PatternMatchingEventHandler\n",
    "import duckdb\n",
    "import pathlib\n",
    "import pandas\n",
    "from pandas_profiling import ProfileReport\n",
    "\n",
    "conn_formatted = duckdb.connect(database=str(pathlib.Path().resolve().parent) + '/formatted/my-db.duckdb', read_only=False)\n",
    "conn_trusted = duckdb.connect(database='my-db.duckdb', read_only=False)\n",
    "\n",
    "cursor = conn_formatted.cursor()\n",
    "cursor2 = conn_trusted.cursor()\n",
    "fetch_query = \"SHOW TABLES\"\n",
    "cursor.execute(fetch_query)\n",
    "print(cursor.fetchall())"
   ]
  },
  {
   "cell_type": "code",
   "execution_count": 10,
   "id": "a2ca1787-363d-4256-8a9f-42763ca071c0",
   "metadata": {},
   "outputs": [
    {
     "name": "stdout",
     "output_type": "stream",
     "text": [
      "Getting table IQ_part1\n",
      "IQ\n",
      "Creating table\n",
      "Getting table IQ_part2\n",
      "Inserting into table\n",
      "Getting table countrycode\n",
      "countrycode\n",
      "Creating table\n",
      "Getting table student_data_2015\n",
      "student\n",
      "Creating table\n"
     ]
    }
   ],
   "source": [
    "cursor.execute(fetch_query)\n",
    "tables = cursor.fetchall()\n",
    "for table in tables:\n",
    "    print(f\"Getting table {table[0]}\" )\n",
    "    df = cursor.execute(f\"SELECT * FROM {table[0]}\").df()\n",
    "    name_no_prefix = table[0].split(\"_\")[0]\n",
    "    \n",
    "    cursor2.execute(\"SHOW TABLES\")\n",
    "    existing_tables = [x[0] for x in cursor2.fetchall()]\n",
    "    # check if table already exists\n",
    "    if name_no_prefix not in existing_tables:\n",
    "        print(name_no_prefix)\n",
    "        print(\"Creating table\")\n",
    "        cursor2.execute(f\"CREATE TABLE IF NOT EXISTS {name_no_prefix} AS SELECT * FROM df\")\n",
    "    else:\n",
    "        print(\"Inserting into table\")\n",
    "        cursor2.execute(f\"INSERT INTO {name_no_prefix} SELECT * FROM df\")"
   ]
  },
  {
   "cell_type": "code",
   "execution_count": 155,
   "id": "ae60739a-a0a0-4fca-8f7c-62ca328b77f1",
   "metadata": {},
   "outputs": [],
   "source": [
    "#cursor2.execute(f\"SELECT * FROM IQ\")\n",
    "#print(cursor2.fetchall())"
   ]
  },
  {
   "cell_type": "code",
   "execution_count": 11,
   "id": "abf4da87-edca-4122-ba71-3e13487554ae",
   "metadata": {},
   "outputs": [
    {
     "data": {
      "text/plain": [
       "[('IQ',), ('countrycode',), ('student',)]"
      ]
     },
     "execution_count": 11,
     "metadata": {},
     "output_type": "execute_result"
    }
   ],
   "source": [
    "cursor2.execute(\"SHOW TABLES\")\n",
    "cursor2.fetchall()"
   ]
  },
  {
   "cell_type": "code",
   "execution_count": 12,
   "id": "31a27f84-3155-4b20-b3f6-7ade689124ae",
   "metadata": {},
   "outputs": [],
   "source": [
    "def data_quality(df):\n",
    "    profile = ProfileReport(df, title=\"Profiling Report\")\n",
    "    profile.to_widgets()\n",
    "    #profile.to_notebook_iframe()"
   ]
  },
  {
   "cell_type": "code",
   "execution_count": 13,
   "id": "7deaa1d3-a0ff-433e-8290-5671c1a749fb",
   "metadata": {},
   "outputs": [
    {
     "name": "stdout",
     "output_type": "stream",
     "text": [
      "Report for table IQ\n"
     ]
    },
    {
     "data": {
      "application/vnd.jupyter.widget-view+json": {
       "model_id": "fa89bd75f5c84b04b7092d2bfd64524f",
       "version_major": 2,
       "version_minor": 0
      },
      "text/plain": [
       "Summarize dataset:   0%|          | 0/5 [00:00<?, ?it/s]"
      ]
     },
     "metadata": {},
     "output_type": "display_data"
    },
    {
     "data": {
      "application/vnd.jupyter.widget-view+json": {
       "model_id": "e2e80ef52e014871aa4433d0020acc12",
       "version_major": 2,
       "version_minor": 0
      },
      "text/plain": [
       "Generate report structure:   0%|          | 0/1 [00:00<?, ?it/s]"
      ]
     },
     "metadata": {},
     "output_type": "display_data"
    },
    {
     "data": {
      "application/vnd.jupyter.widget-view+json": {
       "model_id": "",
       "version_major": 2,
       "version_minor": 0
      },
      "text/plain": [
       "Render widgets:   0%|          | 0/1 [00:00<?, ?it/s]"
      ]
     },
     "metadata": {},
     "output_type": "display_data"
    },
    {
     "data": {
      "application/vnd.jupyter.widget-view+json": {
       "model_id": "413cf5238a384177b0a8464d0f8060a7",
       "version_major": 2,
       "version_minor": 0
      },
      "text/plain": [
       "VBox(children=(Tab(children=(Tab(children=(GridBox(children=(VBox(children=(GridspecLayout(children=(HTML(valu…"
      ]
     },
     "metadata": {},
     "output_type": "display_data"
    },
    {
     "name": "stdout",
     "output_type": "stream",
     "text": [
      "Report for table countrycode\n"
     ]
    },
    {
     "data": {
      "application/vnd.jupyter.widget-view+json": {
       "model_id": "c101023792f8411d872e789f091a2332",
       "version_major": 2,
       "version_minor": 0
      },
      "text/plain": [
       "Summarize dataset:   0%|          | 0/5 [00:00<?, ?it/s]"
      ]
     },
     "metadata": {},
     "output_type": "display_data"
    },
    {
     "data": {
      "application/vnd.jupyter.widget-view+json": {
       "model_id": "8b47ff84dfc248f690e14377d77f395b",
       "version_major": 2,
       "version_minor": 0
      },
      "text/plain": [
       "Generate report structure:   0%|          | 0/1 [00:00<?, ?it/s]"
      ]
     },
     "metadata": {},
     "output_type": "display_data"
    },
    {
     "data": {
      "application/vnd.jupyter.widget-view+json": {
       "model_id": "",
       "version_major": 2,
       "version_minor": 0
      },
      "text/plain": [
       "Render widgets:   0%|          | 0/1 [00:00<?, ?it/s]"
      ]
     },
     "metadata": {},
     "output_type": "display_data"
    },
    {
     "data": {
      "application/vnd.jupyter.widget-view+json": {
       "model_id": "f1ff9f663bbc44ed83196ce7bd6f3972",
       "version_major": 2,
       "version_minor": 0
      },
      "text/plain": [
       "VBox(children=(Tab(children=(Tab(children=(GridBox(children=(VBox(children=(GridspecLayout(children=(HTML(valu…"
      ]
     },
     "metadata": {},
     "output_type": "display_data"
    },
    {
     "name": "stdout",
     "output_type": "stream",
     "text": [
      "Report for table student\n"
     ]
    },
    {
     "data": {
      "application/vnd.jupyter.widget-view+json": {
       "model_id": "2668055575454cc686dd7d4d31fa97fd",
       "version_major": 2,
       "version_minor": 0
      },
      "text/plain": [
       "Summarize dataset:   0%|          | 0/5 [00:00<?, ?it/s]"
      ]
     },
     "metadata": {},
     "output_type": "display_data"
    },
    {
     "data": {
      "application/vnd.jupyter.widget-view+json": {
       "model_id": "a6fe8926ac19432687ad386879923e12",
       "version_major": 2,
       "version_minor": 0
      },
      "text/plain": [
       "Generate report structure:   0%|          | 0/1 [00:00<?, ?it/s]"
      ]
     },
     "metadata": {},
     "output_type": "display_data"
    },
    {
     "data": {
      "application/vnd.jupyter.widget-view+json": {
       "model_id": "",
       "version_major": 2,
       "version_minor": 0
      },
      "text/plain": [
       "Render widgets:   0%|          | 0/1 [00:00<?, ?it/s]"
      ]
     },
     "metadata": {},
     "output_type": "display_data"
    },
    {
     "data": {
      "application/vnd.jupyter.widget-view+json": {
       "model_id": "4a2ebe3b27944c46ad7656ef155831df",
       "version_major": 2,
       "version_minor": 0
      },
      "text/plain": [
       "VBox(children=(Tab(children=(Tab(children=(GridBox(children=(VBox(children=(GridspecLayout(children=(HTML(valu…"
      ]
     },
     "metadata": {},
     "output_type": "display_data"
    }
   ],
   "source": [
    "cursor2.execute(fetch_query)\n",
    "tables = [x[0] for x in cursor2.fetchall()]\n",
    "\n",
    "for table in tables:\n",
    "    print(f\"Report for table {table}\")\n",
    "    df = cursor2.execute(f\"SELECT * FROM {table}\").df()\n",
    "    data_quality(df)"
   ]
  },
  {
   "cell_type": "code",
   "execution_count": 14,
   "id": "237e4bca-8f3c-4e3a-adbd-b5a392382243",
   "metadata": {},
   "outputs": [],
   "source": [
    "conn_trusted.close()\n",
    "conn_formatted.close()"
   ]
  }
 ],
 "metadata": {
  "kernelspec": {
   "display_name": "Python 3 (ipykernel)",
   "language": "python",
   "name": "python3"
  },
  "language_info": {
   "codemirror_mode": {
    "name": "ipython",
    "version": 3
   },
   "file_extension": ".py",
   "mimetype": "text/x-python",
   "name": "python",
   "nbconvert_exporter": "python",
   "pygments_lexer": "ipython3",
   "version": "3.9.12"
  }
 },
 "nbformat": 4,
 "nbformat_minor": 5
}

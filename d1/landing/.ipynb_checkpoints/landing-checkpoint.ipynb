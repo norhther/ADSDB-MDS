{
 "cells": [
  {
   "cell_type": "code",
   "execution_count": 1,
   "id": "a3ce1249-ba6b-4e49-ae18-ac0008a81784",
   "metadata": {},
   "outputs": [
    {
     "ename": "NameError",
     "evalue": "name 'orig_folder' is not defined",
     "output_type": "error",
     "traceback": [
      "\u001b[0;31m---------------------------------------------------------------------------\u001b[0m",
      "\u001b[0;31mNameError\u001b[0m                                 Traceback (most recent call last)",
      "Input \u001b[0;32mIn [1]\u001b[0m, in \u001b[0;36m<cell line: 30>\u001b[0;34m()\u001b[0m\n\u001b[1;32m     28\u001b[0m event_handler \u001b[38;5;241m=\u001b[39m EventHandler()\n\u001b[1;32m     29\u001b[0m observer \u001b[38;5;241m=\u001b[39m Observer()\n\u001b[0;32m---> 30\u001b[0m observer\u001b[38;5;241m.\u001b[39mschedule(event_handler, \u001b[43morig_folder\u001b[49m, recursive\u001b[38;5;241m=\u001b[39m\u001b[38;5;28;01mTrue\u001b[39;00m)\n\u001b[1;32m     31\u001b[0m observer\u001b[38;5;241m.\u001b[39mstart()\n\u001b[1;32m     33\u001b[0m \u001b[38;5;28;01mtry\u001b[39;00m:\n",
      "\u001b[0;31mNameError\u001b[0m: name 'orig_folder' is not defined"
     ]
    }
   ],
   "source": [
    "import time\n",
    "from watchdog.observers import Observer\n",
    "from watchdog.events import FileSystemEventHandler, PatternMatchingEventHandler\n",
    "import shutil as sh\n",
    "from datetime import datetime\n",
    "\n",
    "class EventHandler(PatternMatchingEventHandler):\n",
    "    def __init__(self):\n",
    "        PatternMatchingEventHandler.__init__(\n",
    "            self,\n",
    "            patterns=[\"*.csv\"],\n",
    "            ignore_directories=True,\n",
    "            case_sensitive=False,\n",
    "        )    \n",
    "    \n",
    "    def on_created(self, event):\n",
    "        filename = event.src_path.split(\"/\")[-1]\n",
    "        filename_trunc = filename.split(\".\")[0]\n",
    "        now = datetime.now().strftime(\"%m-%d-%Y-%H.%M.%S\") # dots to be able to create files in windows os\n",
    "        filename_metadata = str(now) + \"@\" + filename_trunc + \".csv\"\n",
    "        try:\n",
    "            sh.move(orig_folder + filename, dest_folder + filename_metadata)\n",
    "        except BaseException as error:\n",
    "            print('An exception occurred: {}'.format(error))\n",
    "\n",
    "sep = \"@\"\n",
    "orig_folder = \"temporal/\"\n",
    "dest_folder = \"persistent/\"\n",
    "            \n",
    "event_handler = EventHandler()\n",
    "observer = Observer()\n",
    "observer.schedule(event_handler, orig_folder, recursive=True)\n",
    "observer.start()\n",
    "\n",
    "try:\n",
    "    while True:\n",
    "        time.sleep(1)\n",
    "        \n",
    "except KeyboardInterrupt:\n",
    "    observer.stop()\n",
    "observer.join()"
   ]
  },
  {
   "cell_type": "code",
   "execution_count": null,
   "id": "f69e63e6-82b4-48c6-8f51-7b6929f19707",
   "metadata": {},
   "outputs": [],
   "source": []
  }
 ],
 "metadata": {
  "kernelspec": {
   "display_name": "Python 3 (ipykernel)",
   "language": "python",
   "name": "python3"
  },
  "language_info": {
   "codemirror_mode": {
    "name": "ipython",
    "version": 3
   },
   "file_extension": ".py",
   "mimetype": "text/x-python",
   "name": "python",
   "nbconvert_exporter": "python",
   "pygments_lexer": "ipython3",
   "version": "3.9.12"
  }
 },
 "nbformat": 4,
 "nbformat_minor": 5
}

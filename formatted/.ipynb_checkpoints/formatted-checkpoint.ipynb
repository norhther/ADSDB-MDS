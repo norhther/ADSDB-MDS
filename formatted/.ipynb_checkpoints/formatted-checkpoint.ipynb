{
 "cells": [
  {
   "cell_type": "code",
   "execution_count": 1,
   "id": "08d13dde-ec9e-4acd-93d2-d6d0e37524af",
   "metadata": {},
   "outputs": [
    {
     "name": "stdout",
     "output_type": "stream",
     "text": [
      "Requirement already satisfied: duckdb==0.5.0 in /home/norhther/anaconda3/lib/python3.9/site-packages (0.5.0)\n",
      "Requirement already satisfied: numpy>=1.14 in /home/norhther/anaconda3/lib/python3.9/site-packages (from duckdb==0.5.0) (1.21.5)\n",
      "Requirement already satisfied: watchdog in /home/norhther/anaconda3/lib/python3.9/site-packages (2.1.6)\n"
     ]
    }
   ],
   "source": [
    "!pip install duckdb==0.5.0\n",
    "!pip install watchdog"
   ]
  },
  {
   "cell_type": "code",
   "execution_count": 1,
   "id": "e4221c00-1f53-4bdb-8a0a-0bc456355e0c",
   "metadata": {},
   "outputs": [
    {
     "ename": "IOException",
     "evalue": "IO Error: Cannot open file \"C:\\Users\\omarl\\OneDrive\\Escritorio//formatted//my-db.duckdb\": El sistema no puede encontrar la ruta especificada.\r\n",
     "output_type": "error",
     "traceback": [
      "\u001b[1;31m---------------------------------------------------------------------------\u001b[0m",
      "\u001b[1;31mIOException\u001b[0m                               Traceback (most recent call last)",
      "Input \u001b[1;32mIn [3]\u001b[0m, in \u001b[0;36m<cell line: 10>\u001b[1;34m()\u001b[0m\n\u001b[0;32m      8\u001b[0m path \u001b[38;5;241m=\u001b[39m parent_path \u001b[38;5;241m+\u001b[39m \u001b[38;5;124m\"\u001b[39m\u001b[38;5;124m//persistent//\u001b[39m\u001b[38;5;124m\"\u001b[39m\n\u001b[0;32m      9\u001b[0m \u001b[38;5;28;01mglobal\u001b[39;00m con\n\u001b[1;32m---> 10\u001b[0m con \u001b[38;5;241m=\u001b[39m \u001b[43mduckdb\u001b[49m\u001b[38;5;241;43m.\u001b[39;49m\u001b[43mconnect\u001b[49m\u001b[43m(\u001b[49m\u001b[43mdatabase\u001b[49m\u001b[43m \u001b[49m\u001b[38;5;241;43m=\u001b[39;49m\u001b[43m \u001b[49m\u001b[43mparent_path\u001b[49m\u001b[43m \u001b[49m\u001b[38;5;241;43m+\u001b[39;49m\u001b[43m \u001b[49m\u001b[38;5;124;43m'\u001b[39;49m\u001b[38;5;124;43m//formatted//my-db.duckdb\u001b[39;49m\u001b[38;5;124;43m'\u001b[39;49m\u001b[43m,\u001b[49m\u001b[43m \u001b[49m\u001b[43mread_only\u001b[49m\u001b[38;5;241;43m=\u001b[39;49m\u001b[38;5;28;43;01mFalse\u001b[39;49;00m\u001b[43m)\u001b[49m\n\u001b[0;32m     11\u001b[0m sep \u001b[38;5;241m=\u001b[39m \u001b[38;5;124m\"\u001b[39m\u001b[38;5;124m@\u001b[39m\u001b[38;5;124m\"\u001b[39m\n\u001b[0;32m     13\u001b[0m \u001b[38;5;28;01mclass\u001b[39;00m \u001b[38;5;21;01mEventHandler\u001b[39;00m(PatternMatchingEventHandler):\n",
      "\u001b[1;31mIOException\u001b[0m: IO Error: Cannot open file \"C:\\Users\\omarl\\OneDrive\\Escritorio//formatted//my-db.duckdb\": El sistema no puede encontrar la ruta especificada.\r\n"
     ]
    }
   ],
   "source": [
    "import time\n",
    "from watchdog.observers import Observer\n",
    "from watchdog.events import FileSystemEventHandler, PatternMatchingEventHandler\n",
    "import duckdb\n",
    "import pathlib\n",
    "\n",
    "parent_path = str(pathlib.Path().resolve().parent)\n",
    "path = parent_path + \"/persistent/\"\n",
    "global con\n",
    "con = duckdb.connect(database = parent_path + '/formatted/my-db.duckdb', read_only=False)\n",
    "sep = \"@\"\n",
    "\n",
    "class EventHandler(PatternMatchingEventHandler):\n",
    "    def __init__(self, query):\n",
    "        PatternMatchingEventHandler.__init__(\n",
    "            self,\n",
    "            patterns=[\"*.csv\"],\n",
    "            ignore_directories=True,\n",
    "            case_sensitive=False,\n",
    "        )\n",
    "        self.query = query\n",
    "    \n",
    "    \n",
    "    def on_created(self, event):\n",
    "        filename = event.src_path.split(\"/\")[-1]\n",
    "        filename_no_sep = filename.split(sep)[1]\n",
    "        filename_trunc = filename_no_sep.split(\".\")[0]\n",
    "        try:\n",
    "            cursor = con.cursor()\n",
    "            cursor.execute(query.format(filename_trunc), \n",
    "                           [event.src_path])\n",
    "            \n",
    "            cursor.execute(\"show tables\")\n",
    "            print(cursor.fetchall())\n",
    "        except Exception as e:\n",
    "            print(e)\n",
    "        finally:\n",
    "            cursor.close()\n",
    "\n",
    "query = \"CREATE TABLE {} AS SELECT * FROM read_csv_auto(?, HEADER=TRUE);\"\n",
    "event_handler = EventHandler(query)\n",
    "observer = Observer()\n",
    "observer.schedule(event_handler, path, recursive=True)\n",
    "observer.start()\n",
    "\n",
    "try:\n",
    "    while True:\n",
    "        time.sleep(1)\n",
    "        \n",
    "except KeyboardInterrupt:\n",
    "    observer.stop()\n",
    "    con.close()\n",
    "observer.join()"
   ]
  },
  {
   "cell_type": "code",
   "execution_count": 33,
   "id": "fe2bc4e7-5ad8-4cbb-97d8-0714f0a63375",
   "metadata": {},
   "outputs": [],
   "source": [
    "con = duckdb.connect(database='formatted/my-db.duckdb', read_only=False)\n",
    "cursor = con.cursor()\n",
    "cursor.execute(\"show tables\")\n",
    "tables = [x[0] for x in cursor.fetchall()]\n",
    "\n",
    "for table in tables:\n",
    "    cursor.execute(f\"Drop table {table}\")"
   ]
  },
  {
   "cell_type": "code",
   "execution_count": 47,
   "id": "dab4f39a-c2f9-4a12-94eb-0d3928e5ee29",
   "metadata": {},
   "outputs": [
    {
     "name": "stdout",
     "output_type": "stream",
     "text": [
      "[('IQ_part1',), ('IQ_part2',), ('Pisa_part1',), ('Pisa_part2',)]\n"
     ]
    },
    {
     "data": {
      "text/plain": [
       "<duckdb.DuckDBPyConnection at 0x7fb74c6b39b0>"
      ]
     },
     "execution_count": 47,
     "metadata": {},
     "output_type": "execute_result"
    }
   ],
   "source": [
    "con = duckdb.connect(database='formatted/my-db.duckdb', read_only=False)\n",
    "cursor = con.cursor()\n",
    "cursor.execute(\"show tables\")\n",
    "print(cursor.fetchall())\n",
    "cursor.execute(\"select * from Pisa_part2\")\n",
    "#print(cursor.fetchall())"
   ]
  },
  {
   "cell_type": "code",
   "execution_count": null,
   "id": "3d21681e-e180-4966-950d-0c506e1bb490",
   "metadata": {},
   "outputs": [],
   "source": []
  }
 ],
 "metadata": {
  "kernelspec": {
   "display_name": "Python 3 (ipykernel)",
   "language": "python",
   "name": "python3"
  },
  "language_info": {
   "codemirror_mode": {
    "name": "ipython",
    "version": 3
   },
   "file_extension": ".py",
   "mimetype": "text/x-python",
   "name": "python",
   "nbconvert_exporter": "python",
   "pygments_lexer": "ipython3",
   "version": "3.9.12"
  }
 },
 "nbformat": 4,
 "nbformat_minor": 5
}
